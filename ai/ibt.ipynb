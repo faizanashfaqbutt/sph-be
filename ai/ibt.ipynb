{
 "cells": [
  {
   "cell_type": "code",
   "execution_count": null,
   "id": "d5032ed6-043e-4df4-934e-aaa57914f7aa",
   "metadata": {},
   "outputs": [],
   "source": [
    "#importing all libraries\n",
    "import pandas as pd\n",
    "from sklearn.model_selection import train_test_split\n",
    "from sklearn.ensemble import RandomForestClassifier\n",
    "from sklearn.metrics import accuracy_score, classification_report\n",
    "from sklearn.preprocessing import StandardScaler\n",
    "import joblib\n",
    "\n",
    "df = pd.read_csv('filteredData.csv')\n"
   ]
  },
  {
   "cell_type": "code",
   "execution_count": null,
   "id": "31ed520f-ec5d-4f03-a643-9fb301f39fcf",
   "metadata": {},
   "outputs": [],
   "source": [
    "#function which will augment the data or increases our data set\n",
    "def transform_row(row):\n",
    "    value = row['bought_in_previous_month']\n",
    "    rows = []\n",
    "    if value < 100:\n",
    "        start = (value // 10) * 10 + 10\n",
    "        for i in range(value, start, 1):\n",
    "            new_row = row.copy()\n",
    "            new_row['bought_in_previous_month'] = i\n",
    "            rows.append(new_row)\n",
    "    elif value < 1000:\n",
    "        start = (value // 100) * 100 + 100\n",
    "        for i in range(value, start, 1):\n",
    "            new_row = row.copy()\n",
    "            new_row['bought_in_previous_month'] = i\n",
    "            rows.append(new_row)\n",
    "    else:\n",
    "        start = (value // 1000 + 1) * 1000\n",
    "        for i in range(value, start, 1):\n",
    "            new_row = row.copy()\n",
    "            new_row['bought_in_previous_month'] = i\n",
    "            rows.append(new_row)\n",
    "    return rows"
   ]
  },
  {
   "cell_type": "code",
   "execution_count": 5,
   "id": "edce0ac9-6eed-4040-8d21-befd24a8acdb",
   "metadata": {},
   "outputs": [],
   "source": [
    "#iterating. labelling the data and then saving the csv in modified_file.csv\n",
    "new_rows = []\n",
    "for _, row in df.iterrows():\n",
    "    # if row['bought_in_previous_month'] < 70 and row['Pic']==\"https://m.media-amazon.com/images/I/611AgBIy6LL._AC_UL320_.jpg\":\n",
    "    new_rows.extend(transform_row(row))\n",
    "\n",
    "new_df = pd.DataFrame(new_rows)\n",
    "new_df['trending'] = ((new_df['bought_in_previous_month'] >= 500) & (new_df['rating'] >= 4)).astype(int)\n",
    "\n",
    "new_df.to_csv('modified_file.csv', index=False)\n"
   ]
  },
  {
   "cell_type": "code",
   "execution_count": 6,
   "id": "5fcf9a69-43ef-414e-9c97-12b502aff4eb",
   "metadata": {},
   "outputs": [
    {
     "data": {
      "text/html": [
       "<div>\n",
       "<style scoped>\n",
       "    .dataframe tbody tr th:only-of-type {\n",
       "        vertical-align: middle;\n",
       "    }\n",
       "\n",
       "    .dataframe tbody tr th {\n",
       "        vertical-align: top;\n",
       "    }\n",
       "\n",
       "    .dataframe thead th {\n",
       "        text-align: right;\n",
       "    }\n",
       "</style>\n",
       "<table border=\"1\" class=\"dataframe\">\n",
       "  <thead>\n",
       "    <tr style=\"text-align: right;\">\n",
       "      <th></th>\n",
       "      <th>rating</th>\n",
       "      <th>Unnamed: 5</th>\n",
       "      <th>bought_in_previous_month</th>\n",
       "      <th>trending</th>\n",
       "    </tr>\n",
       "  </thead>\n",
       "  <tbody>\n",
       "    <tr>\n",
       "      <th>count</th>\n",
       "      <td>784260.000000</td>\n",
       "      <td>0.0</td>\n",
       "      <td>784260.000000</td>\n",
       "      <td>784260.000000</td>\n",
       "    </tr>\n",
       "    <tr>\n",
       "      <th>mean</th>\n",
       "      <td>4.445972</td>\n",
       "      <td>NaN</td>\n",
       "      <td>3651.646355</td>\n",
       "      <td>0.908627</td>\n",
       "    </tr>\n",
       "    <tr>\n",
       "      <th>std</th>\n",
       "      <td>0.223819</td>\n",
       "      <td>NaN</td>\n",
       "      <td>4372.961132</td>\n",
       "      <td>0.288139</td>\n",
       "    </tr>\n",
       "    <tr>\n",
       "      <th>min</th>\n",
       "      <td>2.700000</td>\n",
       "      <td>NaN</td>\n",
       "      <td>50.000000</td>\n",
       "      <td>0.000000</td>\n",
       "    </tr>\n",
       "    <tr>\n",
       "      <th>25%</th>\n",
       "      <td>4.300000</td>\n",
       "      <td>NaN</td>\n",
       "      <td>1556.000000</td>\n",
       "      <td>1.000000</td>\n",
       "    </tr>\n",
       "    <tr>\n",
       "      <th>50%</th>\n",
       "      <td>4.500000</td>\n",
       "      <td>NaN</td>\n",
       "      <td>2891.000000</td>\n",
       "      <td>1.000000</td>\n",
       "    </tr>\n",
       "    <tr>\n",
       "      <th>75%</th>\n",
       "      <td>4.600000</td>\n",
       "      <td>NaN</td>\n",
       "      <td>3988.000000</td>\n",
       "      <td>1.000000</td>\n",
       "    </tr>\n",
       "    <tr>\n",
       "      <th>max</th>\n",
       "      <td>5.000000</td>\n",
       "      <td>NaN</td>\n",
       "      <td>70999.000000</td>\n",
       "      <td>1.000000</td>\n",
       "    </tr>\n",
       "  </tbody>\n",
       "</table>\n",
       "</div>"
      ],
      "text/plain": [
       "              rating  Unnamed: 5  bought_in_previous_month       trending\n",
       "count  784260.000000         0.0             784260.000000  784260.000000\n",
       "mean        4.445972         NaN               3651.646355       0.908627\n",
       "std         0.223819         NaN               4372.961132       0.288139\n",
       "min         2.700000         NaN                 50.000000       0.000000\n",
       "25%         4.300000         NaN               1556.000000       1.000000\n",
       "50%         4.500000         NaN               2891.000000       1.000000\n",
       "75%         4.600000         NaN               3988.000000       1.000000\n",
       "max         5.000000         NaN              70999.000000       1.000000"
      ]
     },
     "execution_count": 6,
     "metadata": {},
     "output_type": "execute_result"
    }
   ],
   "source": [
    "\n",
    "new_df.describe()"
   ]
  },
  {
   "cell_type": "code",
   "execution_count": null,
   "id": "158d5b96-a45e-4eec-ad0e-6616237ea95a",
   "metadata": {},
   "outputs": [],
   "source": [
    " # Features and target\n",
    "X = new_df[['rating','bought_in_previous_month']] \n",
    "y = new_df['trending']"
   ]
  },
  {
   "cell_type": "code",
   "execution_count": 8,
   "id": "55bb1b73-0586-41fc-9b03-b7d6e860655b",
   "metadata": {},
   "outputs": [],
   "source": [
    "scaler = StandardScaler()\n",
    "X_scaled = scaler.fit_transform(X)"
   ]
  },
  {
   "cell_type": "code",
   "execution_count": 9,
   "id": "1eca9d43-3624-4af8-b387-39bf1a5d924e",
   "metadata": {},
   "outputs": [
    {
     "name": "stdout",
     "output_type": "stream",
     "text": [
      "split done\n"
     ]
    }
   ],
   "source": [
    "#splitting training and testing data\n",
    "X_train, X_test, y_train, y_test = train_test_split(X, y, test_size=0.2, random_state=42)\n",
    "print('split done')"
   ]
  },
  {
   "cell_type": "code",
   "execution_count": 10,
   "id": "4d44955c-e706-4329-ba36-50b76ae1155b",
   "metadata": {},
   "outputs": [
    {
     "name": "stdout",
     "output_type": "stream",
     "text": [
      "RandomForestClassifier(random_state=42)\n"
     ]
    }
   ],
   "source": [
    "#training the model\n",
    "model = RandomForestClassifier(n_estimators=100, random_state=42)\n",
    "model.fit(X_train, y_train)\n",
    "print(model)"
   ]
  },
  {
   "cell_type": "code",
   "execution_count": null,
   "id": "2886762f-13cd-4ad0-926a-1b9b8d64ddb1",
   "metadata": {},
   "outputs": [
    {
     "name": "stdout",
     "output_type": "stream",
     "text": [
      "Accuracy: 1.0\n",
      "Classification Report:\n",
      "               precision    recall  f1-score   support\n",
      "\n",
      "           0       1.00      1.00      1.00     14525\n",
      "           1       1.00      1.00      1.00    142327\n",
      "\n",
      "    accuracy                           1.00    156852\n",
      "   macro avg       1.00      1.00      1.00    156852\n",
      "weighted avg       1.00      1.00      1.00    156852\n",
      "\n"
     ]
    }
   ],
   "source": [
    "#testing the model with test data that we splitted earlier\n",
    "y_pred = model.predict(X_test)\n",
    "print(\"Accuracy:\", accuracy_score(y_test, y_pred))\n",
    "print(\"Classification Report:\\n\", classification_report(y_test, y_pred))"
   ]
  },
  {
   "cell_type": "code",
   "execution_count": 12,
   "id": "e71542a7-b3d6-4e87-86b9-8132b3fe410e",
   "metadata": {},
   "outputs": [
    {
     "name": "stdout",
     "output_type": "stream",
     "text": [
      "[1 0]\n"
     ]
    }
   ],
   "source": [
    "#testing with below data frame\n",
    "new_data = pd.DataFrame({\n",
    "    'rating': [4,1],\n",
    "    'bought_in_previous_month': [500,50] \n",
    "})\n",
    "predictions = model.predict(new_data)\n",
    "print(predictions)"
   ]
  },
  {
   "cell_type": "code",
   "execution_count": 13,
   "id": "2d0f252c-cb50-4588-a7d4-a6d43b879878",
   "metadata": {},
   "outputs": [
    {
     "name": "stdout",
     "output_type": "stream",
     "text": [
      "model saved\n"
     ]
    }
   ],
   "source": [
    "#saveing the model in model.pkl\n",
    "joblib.dump(model, 'model.pkl')\n",
    "print('model saved')"
   ]
  },
  {
   "cell_type": "code",
   "execution_count": 2,
   "id": "026c209c-dc88-4b63-8f23-823d2848abc4",
   "metadata": {},
   "outputs": [],
   "source": [
    "#loading the model\n",
    "model = joblib.load('model.pkl')"
   ]
  },
  {
   "cell_type": "code",
   "execution_count": 3,
   "id": "7a037dff-484b-47d2-8cda-e4c0789dc367",
   "metadata": {},
   "outputs": [
    {
     "name": "stdout",
     "output_type": "stream",
     "text": [
      "[1 0]\n"
     ]
    }
   ],
   "source": [
    "#testing the loaded model with below data\n",
    "input_data = pd.DataFrame({\n",
    "    'rating': [4,1],\n",
    "    'bought_in_previous_month': [500,50] \n",
    "})\n",
    "predictions = model.predict(input_data)\n",
    "print(predictions)"
   ]
  },
  {
   "cell_type": "code",
   "execution_count": null,
   "id": "7f9c5455-a693-40e0-97ad-a24ffa566597",
   "metadata": {},
   "outputs": [],
   "source": []
  }
 ],
 "metadata": {
  "kernelspec": {
   "display_name": "Python 3 (ipykernel)",
   "language": "python",
   "name": "python3"
  },
  "language_info": {
   "codemirror_mode": {
    "name": "ipython",
    "version": 3
   },
   "file_extension": ".py",
   "mimetype": "text/x-python",
   "name": "python",
   "nbconvert_exporter": "python",
   "pygments_lexer": "ipython3",
   "version": "3.12.5"
  }
 },
 "nbformat": 4,
 "nbformat_minor": 5
}
